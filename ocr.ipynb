{
 "cells": [
  {
   "cell_type": "code",
   "execution_count": 3,
   "metadata": {},
   "outputs": [],
   "source": [
    "#%pip install pandas"
   ]
  },
  {
   "cell_type": "code",
   "execution_count": 8,
   "metadata": {},
   "outputs": [],
   "source": [
    "import numpy as np\n",
    "import pandas as pd\n",
    "import matplotlib.pyplot as plt\n",
    "import cv2\n",
    "import pytesseract\n",
    "\n",
    "\n",
    "from page_detection import cleaned_image\n",
    "#import tensorflow as tf"
   ]
  },
  {
   "cell_type": "markdown",
   "metadata": {},
   "source": [
    "# Extracting Words"
   ]
  },
  {
   "cell_type": "markdown",
   "metadata": {},
   "source": [
    "### Load Image"
   ]
  },
  {
   "cell_type": "code",
   "execution_count": 17,
   "metadata": {},
   "outputs": [],
   "source": [
    "file_ = \"Records/Fever/Fever_page-0001.jpg\"\n",
    "img = cleaned_image(file = file_)\n",
    "gray = cv2.cvtColor(img, cv2.COLOR_BGR2GRAY) #Convert to grayscale to use tesseract"
   ]
  },
  {
   "cell_type": "markdown",
   "metadata": {},
   "source": [
    "### Using Default Tesseract"
   ]
  },
  {
   "cell_type": "code",
   "execution_count": 18,
   "metadata": {},
   "outputs": [
    {
     "name": "stdout",
     "output_type": "stream",
     "text": [
      "1 yeas olf old i patent paseo ‘Vinee >\n",
      "\n",
      "A reliable ioral; Sa at Chomapape\n",
      "\n",
      "with the clu cowplaints Bn\n",
      "ita . ‘ ~~ fog\n",
      "\n",
      "tle ipsa ae pl se\n",
      "\n",
      "Geen)\n",
      "\n",
      "J2aes Sawiduews Ww onset Set | cal «\n",
      "Dusation > aday of\n",
      "\n",
      "p” OAV! Ay\n",
      "\n",
      "Qi vamal vanation : ue |\n",
      "\n",
      "No Aq4: oy S —_\n",
      "Rokoving “ae wudieation: N 4\n",
      "Jupe of five: High grade .\n",
      "oneewa t\n",
      "Nl ells & vig\" :\n",
      "IN\n",
      "\n",
      "ee i 4\n",
      "Auaation —Stne \\d days |\n",
      "i, ue k weak anoticed.\n",
      "No expe to onlvonn Kamp\n",
      "\n",
      "ie\n",
      "No a Hficourt itand sid\n",
      "\n",
      "Nofomieel Wee\n",
      "\n",
      "————————————\n",
      "\n",
      "Kc\n",
      "\\\n",
      "\\\n",
      "\n",
      "\n"
     ]
    }
   ],
   "source": [
    "extracted_text = pytesseract.image_to_string(gray)\n",
    "print(extracted_text)"
   ]
  },
  {
   "cell_type": "markdown",
   "metadata": {},
   "source": [
    "### Post processing of text"
   ]
  },
  {
   "cell_type": "code",
   "execution_count": null,
   "metadata": {},
   "outputs": [],
   "source": []
  }
 ],
 "metadata": {
  "kernelspec": {
   "display_name": "ocr_env",
   "language": "python",
   "name": "python3"
  },
  "language_info": {
   "codemirror_mode": {
    "name": "ipython",
    "version": 3
   },
   "file_extension": ".py",
   "mimetype": "text/x-python",
   "name": "python",
   "nbconvert_exporter": "python",
   "pygments_lexer": "ipython3",
   "version": "3.11.5"
  }
 },
 "nbformat": 4,
 "nbformat_minor": 2
}
